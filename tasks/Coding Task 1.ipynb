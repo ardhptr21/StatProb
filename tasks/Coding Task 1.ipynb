{
 "cells": [
  {
   "cell_type": "markdown",
   "metadata": {},
   "source": [
    "# Coding Task 1\n",
    "\n",
    "## Anggota Kelompok\n",
    "1. Kanafira Vanesha Putri   - 5027241010\n",
    "2. Ardhi Putra Pradana      - 5027241022\n",
    "3. Khumaidi Kharis Az-zacky - 5027241049\n",
    "4. Imam Mahmud Dalil Fauzan - 5027241100"
   ]
  },
  {
   "cell_type": "markdown",
   "metadata": {},
   "source": [
    "## Data Preparation"
   ]
  },
  {
   "cell_type": "code",
   "execution_count": 2,
   "metadata": {},
   "outputs": [],
   "source": [
    "import pandas as pd\n",
    "import numpy as np\n",
    "import matplotlib.pyplot as plt\n",
    "import seaborn as sns"
   ]
  },
  {
   "cell_type": "code",
   "execution_count": 3,
   "metadata": {},
   "outputs": [
    {
     "data": {
      "text/html": [
       "<div>\n",
       "<style scoped>\n",
       "    .dataframe tbody tr th:only-of-type {\n",
       "        vertical-align: middle;\n",
       "    }\n",
       "\n",
       "    .dataframe tbody tr th {\n",
       "        vertical-align: top;\n",
       "    }\n",
       "\n",
       "    .dataframe thead th {\n",
       "        text-align: right;\n",
       "    }\n",
       "</style>\n",
       "<table border=\"1\" class=\"dataframe\">\n",
       "  <thead>\n",
       "    <tr style=\"text-align: right;\">\n",
       "      <th></th>\n",
       "      <th>date</th>\n",
       "      <th>rainfall</th>\n",
       "      <th>sale_a</th>\n",
       "      <th>sale_b</th>\n",
       "    </tr>\n",
       "  </thead>\n",
       "  <tbody>\n",
       "    <tr>\n",
       "      <th>0</th>\n",
       "      <td>1</td>\n",
       "      <td>1.4</td>\n",
       "      <td>0</td>\n",
       "      <td>507</td>\n",
       "    </tr>\n",
       "    <tr>\n",
       "      <th>1</th>\n",
       "      <td>2</td>\n",
       "      <td>1.2</td>\n",
       "      <td>27</td>\n",
       "      <td>61</td>\n",
       "    </tr>\n",
       "    <tr>\n",
       "      <th>2</th>\n",
       "      <td>3</td>\n",
       "      <td>15.2</td>\n",
       "      <td>458</td>\n",
       "      <td>367</td>\n",
       "    </tr>\n",
       "    <tr>\n",
       "      <th>3</th>\n",
       "      <td>4</td>\n",
       "      <td>13.4</td>\n",
       "      <td>20</td>\n",
       "      <td>21</td>\n",
       "    </tr>\n",
       "    <tr>\n",
       "      <th>4</th>\n",
       "      <td>5</td>\n",
       "      <td>7.7</td>\n",
       "      <td>7</td>\n",
       "      <td>0</td>\n",
       "    </tr>\n",
       "    <tr>\n",
       "      <th>...</th>\n",
       "      <td>...</td>\n",
       "      <td>...</td>\n",
       "      <td>...</td>\n",
       "      <td>...</td>\n",
       "    </tr>\n",
       "    <tr>\n",
       "      <th>116</th>\n",
       "      <td>4</td>\n",
       "      <td>2.2</td>\n",
       "      <td>430</td>\n",
       "      <td>421</td>\n",
       "    </tr>\n",
       "    <tr>\n",
       "      <th>117</th>\n",
       "      <td>5</td>\n",
       "      <td>0.5</td>\n",
       "      <td>208</td>\n",
       "      <td>24</td>\n",
       "    </tr>\n",
       "    <tr>\n",
       "      <th>118</th>\n",
       "      <td>6</td>\n",
       "      <td>33.4</td>\n",
       "      <td>200</td>\n",
       "      <td>189</td>\n",
       "    </tr>\n",
       "    <tr>\n",
       "      <th>119</th>\n",
       "      <td>7</td>\n",
       "      <td>0.0</td>\n",
       "      <td>0</td>\n",
       "      <td>324</td>\n",
       "    </tr>\n",
       "    <tr>\n",
       "      <th>120</th>\n",
       "      <td>8</td>\n",
       "      <td>0.0</td>\n",
       "      <td>143</td>\n",
       "      <td>315</td>\n",
       "    </tr>\n",
       "  </tbody>\n",
       "</table>\n",
       "<p>121 rows × 4 columns</p>\n",
       "</div>"
      ],
      "text/plain": [
       "     date  rainfall  sale_a  sale_b\n",
       "0       1       1.4       0     507\n",
       "1       2       1.2      27      61\n",
       "2       3      15.2     458     367\n",
       "3       4      13.4      20      21\n",
       "4       5       7.7       7       0\n",
       "..    ...       ...     ...     ...\n",
       "116     4       2.2     430     421\n",
       "117     5       0.5     208      24\n",
       "118     6      33.4     200     189\n",
       "119     7       0.0       0     324\n",
       "120     8       0.0     143     315\n",
       "\n",
       "[121 rows x 4 columns]"
      ]
     },
     "execution_count": 3,
     "metadata": {},
     "output_type": "execute_result"
    }
   ],
   "source": [
    "df = pd.read_excel('../datasets/dataset_1.xlsx')\n",
    "df\n",
    "\"\"\"\n",
    "Column name mapping\n",
    "\n",
    "Tanggal          ->  date\n",
    "Curah Hujan (mm) ->  rainfall\n",
    "Penjualan A      ->  sale_a\n",
    "Penjualan B      ->  sale_b\n",
    "\"\"\"\n",
    "df.columns = ['date', 'rainfall', 'sale_a', 'sale_b']\n",
    "df"
   ]
  },
  {
   "cell_type": "markdown",
   "metadata": {},
   "source": [
    "## Exploratory Data"
   ]
  },
  {
   "cell_type": "code",
   "execution_count": 115,
   "metadata": {},
   "outputs": [],
   "source": [
    "def draw_patch_text(ax: plt.Axes, data: list, offset: int = 0):\n",
    "    len_patches = len(list(ax.patches))\n",
    "    assert len(data) == len_patches, f\"Data length must be equal to the number of patches, expected {len_patches}, got {len(data)}\"\n",
    "    for idx, patch in enumerate(ax.patches):\n",
    "        ax.text(\n",
    "            patch.get_x() + patch.get_width() / 2,\n",
    "            patch.get_height() + offset,\n",
    "            data[idx],\n",
    "            fontsize=14,\n",
    "            fontweight='bold',\n",
    "            color='white',\n",
    "            ha='center',\n",
    "            va='bottom'\n",
    "        )"
   ]
  },
  {
   "cell_type": "code",
   "execution_count": 140,
   "metadata": {},
   "outputs": [],
   "source": [
    "\"\"\"\n",
    "Mean\n",
    "\n",
    "Mencari rata - rata dari setiap data penjualan dari produk A dan B\n",
    "\"\"\"\n",
    "\n",
    "def process_mean(ax: plt.Axes):\n",
    "    mean_sale_a = df['sale_a'].mean()\n",
    "    mean_sale_b = df['sale_b'].mean()\n",
    "    data = {\n",
    "        'Produk': ['A', 'B'],\n",
    "        'Mean': [mean_sale_a, mean_sale_b]\n",
    "    }\n",
    "\n",
    "    ax.set_title(\n",
    "        label=\"Rata - rata penjualan produk A dan B\",\n",
    "        size=20,\n",
    "        pad=30\n",
    "    )\n",
    "\n",
    "    sns.barplot(\n",
    "        ax=ax,\n",
    "        data=data,\n",
    "        x='Produk',\n",
    "        y='Mean',\n",
    "        palette=\"GnBu\",\n",
    "        hue='Produk',\n",
    "    )\n",
    "\n",
    "    ax.axhline(y=mean_sale_a, color='red', linewidth=2, linestyle='--')\n",
    "    ax.axhline(y=mean_sale_b, color='red', linewidth=2, linestyle='--')\n",
    "\n",
    "    draw_patch_text(ax=ax, data=[f'{mean_sale_a:.2f}', f'{mean_sale_b:.2f}'], offset=-50)"
   ]
  },
  {
   "cell_type": "code",
   "execution_count": 189,
   "metadata": {},
   "outputs": [],
   "source": [
    "\"\"\"\n",
    "Modus\n",
    "\n",
    "Mencari modus dari setiap data penjualan dari produk A dan B\n",
    "\"\"\"\n",
    "def process_modus(ax: plt.Axes):\n",
    "    mode_sale_a = df['sale_a'][df['sale_a'] != 0].mode().values[0]\n",
    "    mode_sale_b = df['sale_b'][df['sale_b'] != 0].mode().values[0]\n",
    "    amount_sale_a = df['sale_a'][df['sale_a'] == mode_sale_a].count().astype(int)\n",
    "    amount_sale_b = df['sale_b'][df['sale_b'] == mode_sale_b].count().astype(int)\n",
    "    data = {\n",
    "        'Amount': [f'{mode_sale_a} (A)', f'{mode_sale_b} (B)'],\n",
    "        'Mode': [amount_sale_a, amount_sale_b],\n",
    "    }\n",
    "\n",
    "    ax.set_title(\n",
    "        label=\"Modus penjualan produk A dan B\",\n",
    "        size=20,\n",
    "        pad=30\n",
    "    )\n",
    "\n",
    "    sns.barplot(\n",
    "        ax=ax,\n",
    "        data=data,\n",
    "        x='Amount',\n",
    "        y='Mode',\n",
    "        palette=\"GnBu\",\n",
    "        hue='Amount',\n",
    "    )\n",
    "\n",
    "    ax.axhline(y=amount_sale_a, color='red', linestyle='--')\n",
    "    ax.axhline(y=amount_sale_b, color='red', linestyle='--')\n",
    "\n",
    "    draw_patch_text(ax=ax, data=[amount_sale_a, amount_sale_b], offset=-1)"
   ]
  },
  {
   "cell_type": "code",
   "execution_count": 192,
   "metadata": {},
   "outputs": [],
   "source": [
    "\"\"\"\n",
    "Median\n",
    "\n",
    "Mencari median atau nilai tengah dari setiap data penjualan dari produk A dan B\n",
    "\"\"\"\n",
    "def process_median():\n",
    "    median_sale_a = df['sale_a'].median().astype(int)\n",
    "    median_sale_b = df['sale_b'].median().astype(int)\n",
    "    \n",
    "    df_median = pd.DataFrame({\n",
    "        'Produk': ['A', 'B'],\n",
    "        'Median': [median_sale_a, median_sale_b]\n",
    "    })\n",
    "    print(\" Median penjualan produk A dan B \".center(50, \"=\"))\n",
    "    print(df_median.to_string(index=False))\n",
    "    print(\" Median penjualan produk A dan B \".center(50, \"=\"))"
   ]
  },
  {
   "cell_type": "code",
   "execution_count": 193,
   "metadata": {},
   "outputs": [
    {
     "name": "stdout",
     "output_type": "stream",
     "text": [
      "======== Median penjualan produk A dan B =========\n",
      "Produk  Median\n",
      "     A      52\n",
      "     B     157\n",
      "======== Median penjualan produk A dan B =========\n"
     ]
    },
    {
     "data": {
      "image/png": "[encoded data removed]",
      "text/plain": [
       "<Figure size 2000x500 with 2 Axes>"
      ]
     },
     "metadata": {},
     "output_type": "display_data"
    }
   ],
   "source": [
    "fig, (ax1, ax2) = plt.subplots(1, 2, figsize=(20, 5))\n",
    "process_mean(ax1)\n",
    "process_modus(ax2)\n",
    "process_median()"
   ]
  }
 ],
 "metadata": {
  "kernelspec": {
   "display_name": "venv",
   "language": "python",
   "name": "python3"
  },
  "language_info": {
   "codemirror_mode": {
    "name": "ipython",
    "version": 3
   },
   "file_extension": ".py",
   "mimetype": "text/x-python",
   "name": "python",
   "nbconvert_exporter": "python",
   "pygments_lexer": "ipython3",
   "version": "3.12.4"
  }
 },
 "nbformat": 4,
 "nbformat_minor": 2
}
